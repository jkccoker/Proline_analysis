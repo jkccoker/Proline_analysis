{
 "cells": [
  {
   "cell_type": "code",
   "execution_count": 1,
   "metadata": {
    "collapsed": true
   },
   "outputs": [
    {
     "name": "stderr",
     "output_type": "stream",
     "text": [
      "\n",
      "Attaching package: ‘dplyr’\n",
      "\n",
      "\n",
      "The following objects are masked from ‘package:stats’:\n",
      "\n",
      "    filter, lag\n",
      "\n",
      "\n",
      "The following objects are masked from ‘package:base’:\n",
      "\n",
      "    intersect, setdiff, setequal, union\n",
      "\n",
      "\n",
      "\n",
      "Attaching package: ‘gplots’\n",
      "\n",
      "\n",
      "The following object is masked from ‘package:stats’:\n",
      "\n",
      "    lowess\n",
      "\n",
      "\n"
     ]
    }
   ],
   "source": [
    "library(dplyr)\n",
    "library(tidyr)\n",
    "library(stringr)\n",
    "library(ggplot2)\n",
    "library(gplots)\n",
    "library(ggridges)\n",
    "library(ggpubr)\n",
    "library(kedd)"
   ]
  },
  {
   "cell_type": "markdown",
   "metadata": {},
   "source": [
    "## Load and format protein sequence file (sequences downloaded from UniProtKB)"
   ]
  },
  {
   "cell_type": "code",
   "execution_count": 2,
   "metadata": {},
   "outputs": [],
   "source": [
    "# On bash command line:\n",
    "# tr -d '\\n' < file.fasta > file_noN.fasta  ## This deletes \\n from file (file is now 1 loooooong line)\n",
    "\n",
    "# Notes: '\\n' (new line) might need to be '\\r' (return). .fasta file can also be .txt"
   ]
  },
  {
   "cell_type": "code",
   "execution_count": 2,
   "metadata": {
    "collapsed": true
   },
   "outputs": [
    {
     "name": "stderr",
     "output_type": "stream",
     "text": [
      "Warning message in read.table(file = file, header = header, sep = sep, quote = quote, :\n",
      "“incomplete final line found by readTableHeader on '~/Desktop/Data/Daniel_Halofuginone/OtherViruses_Panalysis/dengue_noN.fasta'”\n"
     ]
    },
    {
     "data": {
      "text/html": [
       "<table>\n",
       "<caption>A data.frame: 1 × 2</caption>\n",
       "<thead>\n",
       "\t<tr><th></th><th scope=col>Gene</th><th scope=col>AA_seq</th></tr>\n",
       "\t<tr><th></th><th scope=col>&lt;chr&gt;</th><th scope=col>&lt;chr&gt;</th></tr>\n",
       "</thead>\n",
       "<tbody>\n",
       "\t<tr><th scope=row>V2</th><td>POLG</td><td>MNNQRKKTGRPSFNMLKRARNRVSTVSQLAKRFSKGLLSGQGPMKLVMAFIAFLRFLAIPPTAGILARWGSFKKNGAIKVLRGFKKEISNMLNIMNRRKRSVTMLLMLLPTALAFHLTTRGGEPHMIVSKQERGKSLLFKTSAGVNMCTLIAMDLGELCEDTMTYKCPRITETEPDDVDCWCNATETWVTYGTCSQTGEHRRDKRSVALAPHVGLGLETRTETWMSSEGAWKQIQKVETWALRHPGFTVIALFLAHAIGTSITQKGIIFILLMLVTPSMAMRCVGIGNRDFVEGLSGATWVDVVLEHGSCVTTMAKDKPTLDIELLKTEVTNPAVLRKLCIEAKISNTTTDSRCPTQGEATLVEEQDTNFVCRRTFVDRGWGNGCGLFGKGSLITCAKFKCVTKLEGKIVQYENLKYSVIVTVHTGDQHQVGNETTEHGTTATITPQAPTSEIQLTDYGALTLDCSPRTGLDFNEMVLLTMEKKSWLVHKQWFLDLPLPWTSGASTSQETWNRQDLLVTFKTAHAKKQEVVVLGSQEGAMHTALTGATEIQTSGTTTIFAGHLKCRLKMDKLTLKGMSYVMCTGSFKLEKEVAETQHGTVLVQVKYEGTDAPCKIPFSSQDEKGVTQNGRLITANPIVTDKEKPVNIEAEPPFGESYIVVGAGEKALKLSWFKKGSSIGKMFEATARGARRMAILGDTAWDFGSIGGVFTSVGKLIHQIFGTAYGVLFSGVSWTMKIGIGILLTWLGLNSRSTSLSMTCIAVGMVTLYLGVMVQADSGCVINWKGRELKCGSGIFVTNEVHTWTEQYKFQADSPKRLSAAIGKAWEEGVCGIRSATRLENIMWKQISNELNHILLENDMKFTVVVGDVSGILAQGKKMIRPQPMEHKYSWKSWGKAKIIGADVQNTTFIIDGPNTPECPDNQRAWNIWEVEDYGFGIFTTNIWLKLRDSYTQVCDHRLMSAAIKDSKAVHADMGYWIESEKNETWKLARASFIEVKTCIWPKSHTLWSNGVLESEMIIPKIYGGPISQHNYRPGYFTQTAGPWHLGKLELDFDLCEGTTVVVDEHCGNRGPSLRTTTVTGKTIHEWCCRSCTLPPLRFKGEDGCWYGMEIRPVKEKEENLVKSMVSAGSGEVDSFSLGLLCISIMIEEVMRSRWSRKMLMTGTLAVFLLLTMGQLTWNDLIRLCIMVGANASDKMGMGTTYLALMATFRMRPMFAVGLLFRRLTSREVLLLTVGLSLVASVELPNSLEELGDGLAMGIMMLKLLTDFQSHQLWATLLSLTFVKTTFSLHYAWKTMAMILSIVSLFPLCLSTTSQKTTWLPVLLGSLGCKPLTMFLITENKIWGRKSWPLNEGIMAVGIVSILLSSLLKNDVPLAGPLIAGGMLIACYVISGSSADLSLEKAAEVSWEEEAEHSGASHNILVEVQDDGTMKIKDEERDDTLTILLKATLLAISGVYPMSIPATLFVWYFWQKKKQRSGVLWDTPSPPEVERAVLDDGIYRILQRGLLGRSQVGVGVFQEGVFHTMWHVTRGAVLMYQGKRLEPSWASVKKDLISYGGGWRFQGSWNAGEEVQVIAVEPGKNPKNVQTAPGTFKTPEGEVGAIALDFKPGTSGSPIVNREGKIVGLYGNGVVTTSGTYVSAIAQAKASQEGPLPEIEDEVFRKRNLTIMDLHPGSGKTRRYLPAIVREAIRRNVRTLVLAPTRVVASEMAEALKGMPIRYQTTAVKSEHTGKEIVDLMCHATFTMRLLSPVRVPNYNMIIMDEAHFTDPASIAARGYISTRVGMGEAAAIFMTATPPGSVEAFPQSNAVIQDEERDIPERSWNSGYDWITDFPGKTVWFVPSIKSGNDIANCLRKNGKRVVQLSRKTFDTEYQKTKNNDWDYVVTTDISEMGANFRADRVIDPRRCLKPVILKDGPERVILAGPMPVTVASAAQRRGRIGRNQNKEGDQYIYMGQPLNNDEDHAHWTEAKMLLDNINTPEGIIPALFEPEREKSAAIDGEYRLRGEARKTFVELMRRGDLPVWLSYKVASEGFQYSDRRWCFDGERNNQVLEENMDVEIWTKEGERKKLRPRWLDARTYSDPLALREFKEFAAGRRSVSGDLILEIGKLPQHLTQRAQNALDNLVMLHNSEQGGKAYRHAMEELPDTIETLMLLALIAVLTGGVTLFFLSGRGLGKTSIGLLCVIASSALLWMASVEPHWIAASIILEFFLMVLLIPEPDRQRTPQDNQLAYVVIGLLFMILTAAANEMGLLETTKKDLGIGHAAAENHHHAAMLDVDLHPASAWTLYAVATTIITPMMRHTIENTTANISLTAIANQAAILMGLDKGWPISKMDIGVPLLALGCYSQVNPLTLTAAVFMLVAHYAIIGPGLQAKATREAQKRTAAGIMKNPTVDGIVAIDLDPVVYDAKFEKQLGQIMLLILCTSQILLMRTTWALCESITLATGPLTTLWEGSPGKFWNTTIAVSMANIFRGSYLAGAGLAFSLMKSLGGGRRGTGAQGETLGEKWKRQLNQLSKSEFNTYKRSGIIEVDRSEAKEGLKRGEPTKHAVSRGTAKLRWFVERNLVKPEGKVIDLGCGRGGWSYYCAGLKKVTEVKGYTKGGPGHEEPIPMATYGWNLVKLYSGKDVFFTPPEKCDTLLCDIGESSPNPTIEEGRTLRVLKMVEPWLRGNQFCIKILNPYMPSVVETLEQMQRKHGGMLVRNPLSRNSTHEMYWVSCGTGNIVSAVNMTSRMLLNRFTMAHRKPTYERDVDLGAGTRHVAVEPEVANLDIIGQRIENIKNGHKSTWHYDEDNPYKTWAYHGSYEVKPSGSASSMVNGVVRLLTKPWDVIPMVTQIAMTDTTPFGQQRVFKEKVDTRTPKAKRGTAQIMEVTARWLWGFLSRNKKPRICTREEFTRKVRSNAAIGAVFVDENQWNSAKEAVEDERFWDLVHRERELHKQGKCATCVYNMMGKREKKLGEFGKAKGSRAIWYMWLGARFLEFEALGFMNEDHWFSRENSLSGVEGEGLHKLGYILRDISKIPGGNMYADDTAGWDTRITEDDLQNEAKITDIMEPEHALLATSIFKLTYQNKVVRVQRPAKNGTVMDVISRRDQRGSGQVGTYGLNTFTNMEAQLIRQMESEGIFSPSELETPNLAERVLDWLKKHGTERLKRMAISGDDCVVKPIDDRFATALTALNDMGKVRKDIPQWEPSKGWNDWQQVPFCSHHFHQLIMKDGREIVVPCRNQDELVGRARVSQGAGWSLRETACLGKSYAQMWQLMYFHRRDLRLAANAICSAVPVDWVPTSRTTWSIHAHHQWMTTEDMLSVWNRVWIEENPWMEDKTHVSSWEDVPYLGKREDRWCGSLIGLTARATWATNIQVAINQVRRLIGNENYLDFMTSMKRFKNESDPEGALW</td></tr>\n",
       "</tbody>\n",
       "</table>\n"
      ],
      "text/latex": [
       "A data.frame: 1 × 2\n",
       "\\begin{tabular}{r|ll}\n",
       "  & Gene & AA\\_seq\\\\\n",
       "  & <chr> & <chr>\\\\\n",
       "\\hline\n",
       "\tV2 & POLG & MNNQRKKTGRPSFNMLKRARNRVSTVSQLAKRFSKGLLSGQGPMKLVMAFIAFLRFLAIPPTAGILARWGSFKKNGAIKVLRGFKKEISNMLNIMNRRKRSVTMLLMLLPTALAFHLTTRGGEPHMIVSKQERGKSLLFKTSAGVNMCTLIAMDLGELCEDTMTYKCPRITETEPDDVDCWCNATETWVTYGTCSQTGEHRRDKRSVALAPHVGLGLETRTETWMSSEGAWKQIQKVETWALRHPGFTVIALFLAHAIGTSITQKGIIFILLMLVTPSMAMRCVGIGNRDFVEGLSGATWVDVVLEHGSCVTTMAKDKPTLDIELLKTEVTNPAVLRKLCIEAKISNTTTDSRCPTQGEATLVEEQDTNFVCRRTFVDRGWGNGCGLFGKGSLITCAKFKCVTKLEGKIVQYENLKYSVIVTVHTGDQHQVGNETTEHGTTATITPQAPTSEIQLTDYGALTLDCSPRTGLDFNEMVLLTMEKKSWLVHKQWFLDLPLPWTSGASTSQETWNRQDLLVTFKTAHAKKQEVVVLGSQEGAMHTALTGATEIQTSGTTTIFAGHLKCRLKMDKLTLKGMSYVMCTGSFKLEKEVAETQHGTVLVQVKYEGTDAPCKIPFSSQDEKGVTQNGRLITANPIVTDKEKPVNIEAEPPFGESYIVVGAGEKALKLSWFKKGSSIGKMFEATARGARRMAILGDTAWDFGSIGGVFTSVGKLIHQIFGTAYGVLFSGVSWTMKIGIGILLTWLGLNSRSTSLSMTCIAVGMVTLYLGVMVQADSGCVINWKGRELKCGSGIFVTNEVHTWTEQYKFQADSPKRLSAAIGKAWEEGVCGIRSATRLENIMWKQISNELNHILLENDMKFTVVVGDVSGILAQGKKMIRPQPMEHKYSWKSWGKAKIIGADVQNTTFIIDGPNTPECPDNQRAWNIWEVEDYGFGIFTTNIWLKLRDSYTQVCDHRLMSAAIKDSKAVHADMGYWIESEKNETWKLARASFIEVKTCIWPKSHTLWSNGVLESEMIIPKIYGGPISQHNYRPGYFTQTAGPWHLGKLELDFDLCEGTTVVVDEHCGNRGPSLRTTTVTGKTIHEWCCRSCTLPPLRFKGEDGCWYGMEIRPVKEKEENLVKSMVSAGSGEVDSFSLGLLCISIMIEEVMRSRWSRKMLMTGTLAVFLLLTMGQLTWNDLIRLCIMVGANASDKMGMGTTYLALMATFRMRPMFAVGLLFRRLTSREVLLLTVGLSLVASVELPNSLEELGDGLAMGIMMLKLLTDFQSHQLWATLLSLTFVKTTFSLHYAWKTMAMILSIVSLFPLCLSTTSQKTTWLPVLLGSLGCKPLTMFLITENKIWGRKSWPLNEGIMAVGIVSILLSSLLKNDVPLAGPLIAGGMLIACYVISGSSADLSLEKAAEVSWEEEAEHSGASHNILVEVQDDGTMKIKDEERDDTLTILLKATLLAISGVYPMSIPATLFVWYFWQKKKQRSGVLWDTPSPPEVERAVLDDGIYRILQRGLLGRSQVGVGVFQEGVFHTMWHVTRGAVLMYQGKRLEPSWASVKKDLISYGGGWRFQGSWNAGEEVQVIAVEPGKNPKNVQTAPGTFKTPEGEVGAIALDFKPGTSGSPIVNREGKIVGLYGNGVVTTSGTYVSAIAQAKASQEGPLPEIEDEVFRKRNLTIMDLHPGSGKTRRYLPAIVREAIRRNVRTLVLAPTRVVASEMAEALKGMPIRYQTTAVKSEHTGKEIVDLMCHATFTMRLLSPVRVPNYNMIIMDEAHFTDPASIAARGYISTRVGMGEAAAIFMTATPPGSVEAFPQSNAVIQDEERDIPERSWNSGYDWITDFPGKTVWFVPSIKSGNDIANCLRKNGKRVVQLSRKTFDTEYQKTKNNDWDYVVTTDISEMGANFRADRVIDPRRCLKPVILKDGPERVILAGPMPVTVASAAQRRGRIGRNQNKEGDQYIYMGQPLNNDEDHAHWTEAKMLLDNINTPEGIIPALFEPEREKSAAIDGEYRLRGEARKTFVELMRRGDLPVWLSYKVASEGFQYSDRRWCFDGERNNQVLEENMDVEIWTKEGERKKLRPRWLDARTYSDPLALREFKEFAAGRRSVSGDLILEIGKLPQHLTQRAQNALDNLVMLHNSEQGGKAYRHAMEELPDTIETLMLLALIAVLTGGVTLFFLSGRGLGKTSIGLLCVIASSALLWMASVEPHWIAASIILEFFLMVLLIPEPDRQRTPQDNQLAYVVIGLLFMILTAAANEMGLLETTKKDLGIGHAAAENHHHAAMLDVDLHPASAWTLYAVATTIITPMMRHTIENTTANISLTAIANQAAILMGLDKGWPISKMDIGVPLLALGCYSQVNPLTLTAAVFMLVAHYAIIGPGLQAKATREAQKRTAAGIMKNPTVDGIVAIDLDPVVYDAKFEKQLGQIMLLILCTSQILLMRTTWALCESITLATGPLTTLWEGSPGKFWNTTIAVSMANIFRGSYLAGAGLAFSLMKSLGGGRRGTGAQGETLGEKWKRQLNQLSKSEFNTYKRSGIIEVDRSEAKEGLKRGEPTKHAVSRGTAKLRWFVERNLVKPEGKVIDLGCGRGGWSYYCAGLKKVTEVKGYTKGGPGHEEPIPMATYGWNLVKLYSGKDVFFTPPEKCDTLLCDIGESSPNPTIEEGRTLRVLKMVEPWLRGNQFCIKILNPYMPSVVETLEQMQRKHGGMLVRNPLSRNSTHEMYWVSCGTGNIVSAVNMTSRMLLNRFTMAHRKPTYERDVDLGAGTRHVAVEPEVANLDIIGQRIENIKNGHKSTWHYDEDNPYKTWAYHGSYEVKPSGSASSMVNGVVRLLTKPWDVIPMVTQIAMTDTTPFGQQRVFKEKVDTRTPKAKRGTAQIMEVTARWLWGFLSRNKKPRICTREEFTRKVRSNAAIGAVFVDENQWNSAKEAVEDERFWDLVHRERELHKQGKCATCVYNMMGKREKKLGEFGKAKGSRAIWYMWLGARFLEFEALGFMNEDHWFSRENSLSGVEGEGLHKLGYILRDISKIPGGNMYADDTAGWDTRITEDDLQNEAKITDIMEPEHALLATSIFKLTYQNKVVRVQRPAKNGTVMDVISRRDQRGSGQVGTYGLNTFTNMEAQLIRQMESEGIFSPSELETPNLAERVLDWLKKHGTERLKRMAISGDDCVVKPIDDRFATALTALNDMGKVRKDIPQWEPSKGWNDWQQVPFCSHHFHQLIMKDGREIVVPCRNQDELVGRARVSQGAGWSLRETACLGKSYAQMWQLMYFHRRDLRLAANAICSAVPVDWVPTSRTTWSIHAHHQWMTTEDMLSVWNRVWIEENPWMEDKTHVSSWEDVPYLGKREDRWCGSLIGLTARATWATNIQVAINQVRRLIGNENYLDFMTSMKRFKNESDPEGALW\\\\\n",
       "\\end{tabular}\n"
      ],
      "text/markdown": [
       "\n",
       "A data.frame: 1 × 2\n",
       "\n",
       "| <!--/--> | Gene &lt;chr&gt; | AA_seq &lt;chr&gt; |\n",
       "|---|---|---|\n",
       "| V2 | POLG | MNNQRKKTGRPSFNMLKRARNRVSTVSQLAKRFSKGLLSGQGPMKLVMAFIAFLRFLAIPPTAGILARWGSFKKNGAIKVLRGFKKEISNMLNIMNRRKRSVTMLLMLLPTALAFHLTTRGGEPHMIVSKQERGKSLLFKTSAGVNMCTLIAMDLGELCEDTMTYKCPRITETEPDDVDCWCNATETWVTYGTCSQTGEHRRDKRSVALAPHVGLGLETRTETWMSSEGAWKQIQKVETWALRHPGFTVIALFLAHAIGTSITQKGIIFILLMLVTPSMAMRCVGIGNRDFVEGLSGATWVDVVLEHGSCVTTMAKDKPTLDIELLKTEVTNPAVLRKLCIEAKISNTTTDSRCPTQGEATLVEEQDTNFVCRRTFVDRGWGNGCGLFGKGSLITCAKFKCVTKLEGKIVQYENLKYSVIVTVHTGDQHQVGNETTEHGTTATITPQAPTSEIQLTDYGALTLDCSPRTGLDFNEMVLLTMEKKSWLVHKQWFLDLPLPWTSGASTSQETWNRQDLLVTFKTAHAKKQEVVVLGSQEGAMHTALTGATEIQTSGTTTIFAGHLKCRLKMDKLTLKGMSYVMCTGSFKLEKEVAETQHGTVLVQVKYEGTDAPCKIPFSSQDEKGVTQNGRLITANPIVTDKEKPVNIEAEPPFGESYIVVGAGEKALKLSWFKKGSSIGKMFEATARGARRMAILGDTAWDFGSIGGVFTSVGKLIHQIFGTAYGVLFSGVSWTMKIGIGILLTWLGLNSRSTSLSMTCIAVGMVTLYLGVMVQADSGCVINWKGRELKCGSGIFVTNEVHTWTEQYKFQADSPKRLSAAIGKAWEEGVCGIRSATRLENIMWKQISNELNHILLENDMKFTVVVGDVSGILAQGKKMIRPQPMEHKYSWKSWGKAKIIGADVQNTTFIIDGPNTPECPDNQRAWNIWEVEDYGFGIFTTNIWLKLRDSYTQVCDHRLMSAAIKDSKAVHADMGYWIESEKNETWKLARASFIEVKTCIWPKSHTLWSNGVLESEMIIPKIYGGPISQHNYRPGYFTQTAGPWHLGKLELDFDLCEGTTVVVDEHCGNRGPSLRTTTVTGKTIHEWCCRSCTLPPLRFKGEDGCWYGMEIRPVKEKEENLVKSMVSAGSGEVDSFSLGLLCISIMIEEVMRSRWSRKMLMTGTLAVFLLLTMGQLTWNDLIRLCIMVGANASDKMGMGTTYLALMATFRMRPMFAVGLLFRRLTSREVLLLTVGLSLVASVELPNSLEELGDGLAMGIMMLKLLTDFQSHQLWATLLSLTFVKTTFSLHYAWKTMAMILSIVSLFPLCLSTTSQKTTWLPVLLGSLGCKPLTMFLITENKIWGRKSWPLNEGIMAVGIVSILLSSLLKNDVPLAGPLIAGGMLIACYVISGSSADLSLEKAAEVSWEEEAEHSGASHNILVEVQDDGTMKIKDEERDDTLTILLKATLLAISGVYPMSIPATLFVWYFWQKKKQRSGVLWDTPSPPEVERAVLDDGIYRILQRGLLGRSQVGVGVFQEGVFHTMWHVTRGAVLMYQGKRLEPSWASVKKDLISYGGGWRFQGSWNAGEEVQVIAVEPGKNPKNVQTAPGTFKTPEGEVGAIALDFKPGTSGSPIVNREGKIVGLYGNGVVTTSGTYVSAIAQAKASQEGPLPEIEDEVFRKRNLTIMDLHPGSGKTRRYLPAIVREAIRRNVRTLVLAPTRVVASEMAEALKGMPIRYQTTAVKSEHTGKEIVDLMCHATFTMRLLSPVRVPNYNMIIMDEAHFTDPASIAARGYISTRVGMGEAAAIFMTATPPGSVEAFPQSNAVIQDEERDIPERSWNSGYDWITDFPGKTVWFVPSIKSGNDIANCLRKNGKRVVQLSRKTFDTEYQKTKNNDWDYVVTTDISEMGANFRADRVIDPRRCLKPVILKDGPERVILAGPMPVTVASAAQRRGRIGRNQNKEGDQYIYMGQPLNNDEDHAHWTEAKMLLDNINTPEGIIPALFEPEREKSAAIDGEYRLRGEARKTFVELMRRGDLPVWLSYKVASEGFQYSDRRWCFDGERNNQVLEENMDVEIWTKEGERKKLRPRWLDARTYSDPLALREFKEFAAGRRSVSGDLILEIGKLPQHLTQRAQNALDNLVMLHNSEQGGKAYRHAMEELPDTIETLMLLALIAVLTGGVTLFFLSGRGLGKTSIGLLCVIASSALLWMASVEPHWIAASIILEFFLMVLLIPEPDRQRTPQDNQLAYVVIGLLFMILTAAANEMGLLETTKKDLGIGHAAAENHHHAAMLDVDLHPASAWTLYAVATTIITPMMRHTIENTTANISLTAIANQAAILMGLDKGWPISKMDIGVPLLALGCYSQVNPLTLTAAVFMLVAHYAIIGPGLQAKATREAQKRTAAGIMKNPTVDGIVAIDLDPVVYDAKFEKQLGQIMLLILCTSQILLMRTTWALCESITLATGPLTTLWEGSPGKFWNTTIAVSMANIFRGSYLAGAGLAFSLMKSLGGGRRGTGAQGETLGEKWKRQLNQLSKSEFNTYKRSGIIEVDRSEAKEGLKRGEPTKHAVSRGTAKLRWFVERNLVKPEGKVIDLGCGRGGWSYYCAGLKKVTEVKGYTKGGPGHEEPIPMATYGWNLVKLYSGKDVFFTPPEKCDTLLCDIGESSPNPTIEEGRTLRVLKMVEPWLRGNQFCIKILNPYMPSVVETLEQMQRKHGGMLVRNPLSRNSTHEMYWVSCGTGNIVSAVNMTSRMLLNRFTMAHRKPTYERDVDLGAGTRHVAVEPEVANLDIIGQRIENIKNGHKSTWHYDEDNPYKTWAYHGSYEVKPSGSASSMVNGVVRLLTKPWDVIPMVTQIAMTDTTPFGQQRVFKEKVDTRTPKAKRGTAQIMEVTARWLWGFLSRNKKPRICTREEFTRKVRSNAAIGAVFVDENQWNSAKEAVEDERFWDLVHRERELHKQGKCATCVYNMMGKREKKLGEFGKAKGSRAIWYMWLGARFLEFEALGFMNEDHWFSRENSLSGVEGEGLHKLGYILRDISKIPGGNMYADDTAGWDTRITEDDLQNEAKITDIMEPEHALLATSIFKLTYQNKVVRVQRPAKNGTVMDVISRRDQRGSGQVGTYGLNTFTNMEAQLIRQMESEGIFSPSELETPNLAERVLDWLKKHGTERLKRMAISGDDCVVKPIDDRFATALTALNDMGKVRKDIPQWEPSKGWNDWQQVPFCSHHFHQLIMKDGREIVVPCRNQDELVGRARVSQGAGWSLRETACLGKSYAQMWQLMYFHRRDLRLAANAICSAVPVDWVPTSRTTWSIHAHHQWMTTEDMLSVWNRVWIEENPWMEDKTHVSSWEDVPYLGKREDRWCGSLIGLTARATWATNIQVAINQVRRLIGNENYLDFMTSMKRFKNESDPEGALW |\n",
       "\n"
      ],
      "text/plain": [
       "   Gene\n",
       "V2 POLG\n",
       "   AA_seq                                                                                                                                                                                                                                                                                                                                                                                                                                                                                                                                                                                                                                                                                                                                                                                                                                                                                                                                                                                                                                                                                                                                                                                                                                                                                                                                                                                                                                                                                                                                                                                                                                                                                                                                                                                                                                                                                                                                                                                                                                                                                                                                                                                                                                                                                                                                                                                                                                                                                                                                                                                                                                                                                                                                                                                                                                                                                                                                                                                                                                                                                                                                                                                                                                                                                                                                                                                                                                                                                                                          \n",
       "V2 MNNQRKKTGRPSFNMLKRARNRVSTVSQLAKRFSKGLLSGQGPMKLVMAFIAFLRFLAIPPTAGILARWGSFKKNGAIKVLRGFKKEISNMLNIMNRRKRSVTMLLMLLPTALAFHLTTRGGEPHMIVSKQERGKSLLFKTSAGVNMCTLIAMDLGELCEDTMTYKCPRITETEPDDVDCWCNATETWVTYGTCSQTGEHRRDKRSVALAPHVGLGLETRTETWMSSEGAWKQIQKVETWALRHPGFTVIALFLAHAIGTSITQKGIIFILLMLVTPSMAMRCVGIGNRDFVEGLSGATWVDVVLEHGSCVTTMAKDKPTLDIELLKTEVTNPAVLRKLCIEAKISNTTTDSRCPTQGEATLVEEQDTNFVCRRTFVDRGWGNGCGLFGKGSLITCAKFKCVTKLEGKIVQYENLKYSVIVTVHTGDQHQVGNETTEHGTTATITPQAPTSEIQLTDYGALTLDCSPRTGLDFNEMVLLTMEKKSWLVHKQWFLDLPLPWTSGASTSQETWNRQDLLVTFKTAHAKKQEVVVLGSQEGAMHTALTGATEIQTSGTTTIFAGHLKCRLKMDKLTLKGMSYVMCTGSFKLEKEVAETQHGTVLVQVKYEGTDAPCKIPFSSQDEKGVTQNGRLITANPIVTDKEKPVNIEAEPPFGESYIVVGAGEKALKLSWFKKGSSIGKMFEATARGARRMAILGDTAWDFGSIGGVFTSVGKLIHQIFGTAYGVLFSGVSWTMKIGIGILLTWLGLNSRSTSLSMTCIAVGMVTLYLGVMVQADSGCVINWKGRELKCGSGIFVTNEVHTWTEQYKFQADSPKRLSAAIGKAWEEGVCGIRSATRLENIMWKQISNELNHILLENDMKFTVVVGDVSGILAQGKKMIRPQPMEHKYSWKSWGKAKIIGADVQNTTFIIDGPNTPECPDNQRAWNIWEVEDYGFGIFTTNIWLKLRDSYTQVCDHRLMSAAIKDSKAVHADMGYWIESEKNETWKLARASFIEVKTCIWPKSHTLWSNGVLESEMIIPKIYGGPISQHNYRPGYFTQTAGPWHLGKLELDFDLCEGTTVVVDEHCGNRGPSLRTTTVTGKTIHEWCCRSCTLPPLRFKGEDGCWYGMEIRPVKEKEENLVKSMVSAGSGEVDSFSLGLLCISIMIEEVMRSRWSRKMLMTGTLAVFLLLTMGQLTWNDLIRLCIMVGANASDKMGMGTTYLALMATFRMRPMFAVGLLFRRLTSREVLLLTVGLSLVASVELPNSLEELGDGLAMGIMMLKLLTDFQSHQLWATLLSLTFVKTTFSLHYAWKTMAMILSIVSLFPLCLSTTSQKTTWLPVLLGSLGCKPLTMFLITENKIWGRKSWPLNEGIMAVGIVSILLSSLLKNDVPLAGPLIAGGMLIACYVISGSSADLSLEKAAEVSWEEEAEHSGASHNILVEVQDDGTMKIKDEERDDTLTILLKATLLAISGVYPMSIPATLFVWYFWQKKKQRSGVLWDTPSPPEVERAVLDDGIYRILQRGLLGRSQVGVGVFQEGVFHTMWHVTRGAVLMYQGKRLEPSWASVKKDLISYGGGWRFQGSWNAGEEVQVIAVEPGKNPKNVQTAPGTFKTPEGEVGAIALDFKPGTSGSPIVNREGKIVGLYGNGVVTTSGTYVSAIAQAKASQEGPLPEIEDEVFRKRNLTIMDLHPGSGKTRRYLPAIVREAIRRNVRTLVLAPTRVVASEMAEALKGMPIRYQTTAVKSEHTGKEIVDLMCHATFTMRLLSPVRVPNYNMIIMDEAHFTDPASIAARGYISTRVGMGEAAAIFMTATPPGSVEAFPQSNAVIQDEERDIPERSWNSGYDWITDFPGKTVWFVPSIKSGNDIANCLRKNGKRVVQLSRKTFDTEYQKTKNNDWDYVVTTDISEMGANFRADRVIDPRRCLKPVILKDGPERVILAGPMPVTVASAAQRRGRIGRNQNKEGDQYIYMGQPLNNDEDHAHWTEAKMLLDNINTPEGIIPALFEPEREKSAAIDGEYRLRGEARKTFVELMRRGDLPVWLSYKVASEGFQYSDRRWCFDGERNNQVLEENMDVEIWTKEGERKKLRPRWLDARTYSDPLALREFKEFAAGRRSVSGDLILEIGKLPQHLTQRAQNALDNLVMLHNSEQGGKAYRHAMEELPDTIETLMLLALIAVLTGGVTLFFLSGRGLGKTSIGLLCVIASSALLWMASVEPHWIAASIILEFFLMVLLIPEPDRQRTPQDNQLAYVVIGLLFMILTAAANEMGLLETTKKDLGIGHAAAENHHHAAMLDVDLHPASAWTLYAVATTIITPMMRHTIENTTANISLTAIANQAAILMGLDKGWPISKMDIGVPLLALGCYSQVNPLTLTAAVFMLVAHYAIIGPGLQAKATREAQKRTAAGIMKNPTVDGIVAIDLDPVVYDAKFEKQLGQIMLLILCTSQILLMRTTWALCESITLATGPLTTLWEGSPGKFWNTTIAVSMANIFRGSYLAGAGLAFSLMKSLGGGRRGTGAQGETLGEKWKRQLNQLSKSEFNTYKRSGIIEVDRSEAKEGLKRGEPTKHAVSRGTAKLRWFVERNLVKPEGKVIDLGCGRGGWSYYCAGLKKVTEVKGYTKGGPGHEEPIPMATYGWNLVKLYSGKDVFFTPPEKCDTLLCDIGESSPNPTIEEGRTLRVLKMVEPWLRGNQFCIKILNPYMPSVVETLEQMQRKHGGMLVRNPLSRNSTHEMYWVSCGTGNIVSAVNMTSRMLLNRFTMAHRKPTYERDVDLGAGTRHVAVEPEVANLDIIGQRIENIKNGHKSTWHYDEDNPYKTWAYHGSYEVKPSGSASSMVNGVVRLLTKPWDVIPMVTQIAMTDTTPFGQQRVFKEKVDTRTPKAKRGTAQIMEVTARWLWGFLSRNKKPRICTREEFTRKVRSNAAIGAVFVDENQWNSAKEAVEDERFWDLVHRERELHKQGKCATCVYNMMGKREKKLGEFGKAKGSRAIWYMWLGARFLEFEALGFMNEDHWFSRENSLSGVEGEGLHKLGYILRDISKIPGGNMYADDTAGWDTRITEDDLQNEAKITDIMEPEHALLATSIFKLTYQNKVVRVQRPAKNGTVMDVISRRDQRGSGQVGTYGLNTFTNMEAQLIRQMESEGIFSPSELETPNLAERVLDWLKKHGTERLKRMAISGDDCVVKPIDDRFATALTALNDMGKVRKDIPQWEPSKGWNDWQQVPFCSHHFHQLIMKDGREIVVPCRNQDELVGRARVSQGAGWSLRETACLGKSYAQMWQLMYFHRRDLRLAANAICSAVPVDWVPTSRTTWSIHAHHQWMTTEDMLSVWNRVWIEENPWMEDKTHVSSWEDVPYLGKREDRWCGSLIGLTARATWATNIQVAINQVRRLIGNENYLDFMTSMKRFKNESDPEGALW"
      ]
     },
     "metadata": {},
     "output_type": "display_data"
    },
    {
     "data": {
      "text/html": [
       "<style>\n",
       ".list-inline {list-style: none; margin:0; padding: 0}\n",
       ".list-inline>li {display: inline-block}\n",
       ".list-inline>li:not(:last-child)::after {content: \"\\00b7\"; padding: 0 .5ex}\n",
       "</style>\n",
       "<ol class=list-inline><li>1</li><li>2</li></ol>\n"
      ],
      "text/latex": [
       "\\begin{enumerate*}\n",
       "\\item 1\n",
       "\\item 2\n",
       "\\end{enumerate*}\n"
      ],
      "text/markdown": [
       "1. 1\n",
       "2. 2\n",
       "\n",
       "\n"
      ],
      "text/plain": [
       "[1] 1 2"
      ]
     },
     "metadata": {},
     "output_type": "display_data"
    }
   ],
   "source": [
    "# Read file and separate based on > symbol (which is at the beginning of each gene header)\n",
    "protein_seq <- read.delim(\"file_noN.fasta\", header = F, sep = \">\")\n",
    "#head(protein_seq)\n",
    "\n",
    "# Above command make a table with 1 column per gene+seq. Transpose and transform to data frame for 1 row per gene+seq. \n",
    "protein_rows <- as.data.frame(t(protein_seq))\n",
    "#head(protein_rows)\n",
    "\n",
    "# Separate gene name and gene into separate columns. \n",
    "protein_divide <- separate(protein_rows, V1, c(\"Gene\", \"AA_seq\"), sep = \"_name\")\n",
    "# Remove first row (just says \"NA\")\n",
    "protein_divide <- protein_divide[-1,]\n",
    "\n",
    "head(protein_divide)\n",
    "dim(protein_divide)"
   ]
  },
  {
   "cell_type": "code",
   "execution_count": 3,
   "metadata": {
    "collapsed": true
   },
   "outputs": [
    {
     "data": {
      "text/html": [
       "<table>\n",
       "<caption>A data.frame: 6 × 2</caption>\n",
       "<thead>\n",
       "\t<tr><th></th><th scope=col>start</th><th scope=col>end</th></tr>\n",
       "\t<tr><th></th><th scope=col>&lt;int&gt;</th><th scope=col>&lt;int&gt;</th></tr>\n",
       "</thead>\n",
       "<tbody>\n",
       "\t<tr><th scope=row>1</th><td> 84</td><td> 84</td></tr>\n",
       "\t<tr><th scope=row>2</th><td>135</td><td>135</td></tr>\n",
       "\t<tr><th scope=row>3</th><td>138</td><td>138</td></tr>\n",
       "\t<tr><th scope=row>4</th><td>146</td><td>146</td></tr>\n",
       "\t<tr><th scope=row>5</th><td>178</td><td>178</td></tr>\n",
       "\t<tr><th scope=row>6</th><td>235</td><td>235</td></tr>\n",
       "</tbody>\n",
       "</table>\n"
      ],
      "text/latex": [
       "A data.frame: 6 × 2\n",
       "\\begin{tabular}{r|ll}\n",
       "  & start & end\\\\\n",
       "  & <int> & <int>\\\\\n",
       "\\hline\n",
       "\t1 &  84 &  84\\\\\n",
       "\t2 & 135 & 135\\\\\n",
       "\t3 & 138 & 138\\\\\n",
       "\t4 & 146 & 146\\\\\n",
       "\t5 & 178 & 178\\\\\n",
       "\t6 & 235 & 235\\\\\n",
       "\\end{tabular}\n"
      ],
      "text/markdown": [
       "\n",
       "A data.frame: 6 × 2\n",
       "\n",
       "| <!--/--> | start &lt;int&gt; | end &lt;int&gt; |\n",
       "|---|---|---|\n",
       "| 1 |  84 |  84 |\n",
       "| 2 | 135 | 135 |\n",
       "| 3 | 138 | 138 |\n",
       "| 4 | 146 | 146 |\n",
       "| 5 | 178 | 178 |\n",
       "| 6 | 235 | 235 |\n",
       "\n"
      ],
      "text/plain": [
       "  start end\n",
       "1  84    84\n",
       "2 135   135\n",
       "3 138   138\n",
       "4 146   146\n",
       "5 178   178\n",
       "6 235   235"
      ]
     },
     "metadata": {},
     "output_type": "display_data"
    }
   ],
   "source": [
    "# Command to count and get location of each P in sequence. Get output as a data frame of 2 columns and P rows. \n",
    "Gene1 <- data.frame(str_locate_all(protein_divide[1,2], pattern = \"P\"))\n",
    "head(Gene1)"
   ]
  },
  {
   "cell_type": "code",
   "execution_count": 3,
   "metadata": {
    "collapsed": true
   },
   "outputs": [
    {
     "data": {
      "text/html": [
       "<table>\n",
       "<caption>A data.frame: 6 × 1</caption>\n",
       "<thead>\n",
       "\t<tr><th></th><th scope=col>POLG</th></tr>\n",
       "\t<tr><th></th><th scope=col>&lt;int&gt;</th></tr>\n",
       "</thead>\n",
       "<tbody>\n",
       "\t<tr><th scope=row>1</th><td> 11</td></tr>\n",
       "\t<tr><th scope=row>2</th><td> 43</td></tr>\n",
       "\t<tr><th scope=row>3</th><td> 60</td></tr>\n",
       "\t<tr><th scope=row>4</th><td> 61</td></tr>\n",
       "\t<tr><th scope=row>5</th><td>110</td></tr>\n",
       "\t<tr><th scope=row>6</th><td>124</td></tr>\n",
       "</tbody>\n",
       "</table>\n"
      ],
      "text/latex": [
       "A data.frame: 6 × 1\n",
       "\\begin{tabular}{r|l}\n",
       "  & POLG\\\\\n",
       "  & <int>\\\\\n",
       "\\hline\n",
       "\t1 &  11\\\\\n",
       "\t2 &  43\\\\\n",
       "\t3 &  60\\\\\n",
       "\t4 &  61\\\\\n",
       "\t5 & 110\\\\\n",
       "\t6 & 124\\\\\n",
       "\\end{tabular}\n"
      ],
      "text/markdown": [
       "\n",
       "A data.frame: 6 × 1\n",
       "\n",
       "| <!--/--> | POLG &lt;int&gt; |\n",
       "|---|---|\n",
       "| 1 |  11 |\n",
       "| 2 |  43 |\n",
       "| 3 |  60 |\n",
       "| 4 |  61 |\n",
       "| 5 | 110 |\n",
       "| 6 | 124 |\n",
       "\n"
      ],
      "text/plain": [
       "  POLG\n",
       "1  11 \n",
       "2  43 \n",
       "3  60 \n",
       "4  61 \n",
       "5 110 \n",
       "6 124 "
      ]
     },
     "metadata": {},
     "output_type": "display_data"
    }
   ],
   "source": [
    "# Function to make matrix of P locations in each gene (each gene = 1 column)\n",
    "analyze <- function(df) {\n",
    "    out <- matrix(ncol = length(df$Gene), nrow = 2000) # Create matrix for data deposition\n",
    "    for (f in 1:nrow(df)) {\n",
    "        fdata <- df[f,2] # Define row f, column 2 as variable fdata\n",
    "        fcount <- data.frame(str_locate_all(fdata, pattern = \"P\")) # Define fcount as data frame of P locations\n",
    "        out[1:nrow(fcount),f] <- fcount$start # Add list of P locations to matrix out in column f\n",
    "    }\n",
    "    return(out)\n",
    "}\n",
    "\n",
    "# Run function\n",
    "protein_Pcount <- analyze(protein_divide)\n",
    "\n",
    "# Set column names of matrix output\n",
    "colnames(protein_Pcount) <- protein_divide$Gene\n",
    "#colnames(misc_Pcount)\n",
    "\n",
    "# Transform matrix to data frame.\n",
    "protein_Pcount_df <- data.frame(protein_Pcount) \n",
    "head(protein_Pcount_df)"
   ]
  },
  {
   "cell_type": "markdown",
   "metadata": {},
   "source": [
    "## Percentage of proline in each protein"
   ]
  },
  {
   "cell_type": "code",
   "execution_count": 1,
   "metadata": {
    "collapsed": true
   },
   "outputs": [
    {
     "ename": "ERROR",
     "evalue": "Error in apply(protein_divide, 2, nchar): object 'protein_divide' not found\n",
     "output_type": "error",
     "traceback": [
      "Error in apply(protein_divide, 2, nchar): object 'protein_divide' not found\nTraceback:\n",
      "1. apply(protein_divide, 2, nchar)"
     ]
    }
   ],
   "source": [
    "# Number of AA in each protein\n",
    "AA_number <- apply(protein_divide, 2, nchar)\n",
    "head(AA_number)\n",
    "\n",
    "# Number of prolines in each protein\n",
    "P_number <- str_count(protein_divide[,2], \"P\")\n",
    "P_number\n",
    "\n",
    "# Combine number of AA and number of P in table\n",
    "AA_P_number <- as.data.frame(AA_number)\n",
    "AA_P_number$P_n <- P_number\n",
    "head(AA_P_number)"
   ]
  },
  {
   "cell_type": "code",
   "execution_count": 2,
   "metadata": {
    "collapsed": true
   },
   "outputs": [
    {
     "ename": "ERROR",
     "evalue": "Error in mutate(AA_P_number, P_percent = P_n/AA_seq): could not find function \"mutate\"\n",
     "output_type": "error",
     "traceback": [
      "Error in mutate(AA_P_number, P_percent = P_n/AA_seq): could not find function \"mutate\"\nTraceback:\n"
     ]
    }
   ],
   "source": [
    "# Calculate % proline\n",
    "AA_P_percent <- mutate(AA_P_number, P_percent = P_n/AA_seq)\n",
    "# Add column with gene name\n",
    "AA_P_percent$Gene_name <- protein_divide$Gene\n",
    "\n",
    "AA_P_percent"
   ]
  },
  {
   "cell_type": "code",
   "execution_count": 6,
   "metadata": {},
   "outputs": [],
   "source": [
    "#write.csv(AA_P_percent, \"proline_percent.csv\")"
   ]
  },
  {
   "cell_type": "markdown",
   "metadata": {},
   "source": [
    "## Proline location plots with kernel density overlay"
   ]
  },
  {
   "cell_type": "code",
   "execution_count": 10,
   "metadata": {},
   "outputs": [],
   "source": [
    "# Function for proline location plots (histogram with binwidth = 1) with kernel density plots overlaid\n",
    "plots.histo1.density <- function(df) {\n",
    "    for (i in 1:ncol(df)) {\n",
    "       # Histogram\n",
    "        histo <- ggplot(df, aes(x = df[,i])) +\n",
    "        geom_histogram(binwidth = 1, color = \"black\", fill = \"black\") + \n",
    "        xlab(\"Amino acid position\") + ylab(\"P probability density\\n(kernel density est.)\") +\n",
    "        theme_classic() + ggtitle(colnames(df[i])) +\n",
    "        scale_y_continuous(breaks = c()) +\n",
    "        theme(axis.text.x = element_text(size = 6, family = \"Arial\", face = \"bold\", color = \"black\"), \n",
    "          axis.title.x = element_text(size = 6, family = \"Arial\", face = \"bold\"), \n",
    "          axis.text.y = element_blank(),\n",
    "          axis.title.y = element_text(size = 6, family = \"Arial\", face = \"bold\"),\n",
    "          plot.title = element_text(size = 6, family = \"Arial\", face = \"bold\"),\n",
    "         axis.line = element_line(color = \"black\", size = 0.5)) +\n",
    "        expand_limits(x = 0) \n",
    "    \n",
    "        # Density plot of proline distribution\n",
    "        xkd <- ggplot(df, aes(x = df[,i])) +\n",
    "        geom_density(bw = h.mlcv(df[,i])$h, color = \"red\", fill = \"red\", alpha = 0.9, size = 0) +\n",
    "        theme_transparent() + \n",
    "        theme(axis.text = element_blank(), \n",
    "          axis.title = element_blank()) +\n",
    "        expand_limits(x = c(0, max(df[,i], na.rm = T)), y = 0)\n",
    "        \n",
    "        # Make density plot an external graphical object\n",
    "        xkd_grob <- ggplotGrob(xkd)\n",
    "        \n",
    "        # Place density on top of histogram\n",
    "        plot <- histo + annotation_custom(grob = xkd_grob, xmin = 0, xmax = max(df[,i], na.rm = T), \n",
    "                                          ymax = 0.7, ymin = -0.25)\n",
    "        \n",
    "        # Save plot\n",
    "        ggsave(plot = last_plot(), file = paste0(colnames(df[i]), \".png\"), width = 6.858, height = 3, units = \"cm\", dpi = 300)\n",
    "        \n",
    "        # Show plot in notebook\n",
    "        print(plot)\n",
    "    }\n",
    "}"
   ]
  },
  {
   "cell_type": "code",
   "execution_count": 11,
   "metadata": {
    "collapsed": true
   },
   "outputs": [
    {
     "name": "stderr",
     "output_type": "stream",
     "text": [
      "Warning message:\n",
      "“Removed 1860 rows containing non-finite values (stat_density).”\n",
      "Warning message:\n",
      "“Removed 1860 rows containing non-finite values (stat_bin).”\n",
      "Warning message:\n",
      "“Removed 1860 rows containing non-finite values (stat_bin).”\n"
     ]
    },
    {
     "data": {
      "image/png": "[encoded data removed]",
      "text/plain": [
       "plot without title"
      ]
     },
     "metadata": {
      "image/png": {
       "height": 420,
       "width": 420
      },
      "text/plain": {
       "height": 420,
       "width": 420
      }
     },
     "output_type": "display_data"
    }
   ],
   "source": [
    "plots.histo1.density(protein_Pcount_df)"
   ]
  },
  {
   "cell_type": "markdown",
   "metadata": {},
   "source": [
    "## Kernel density ridgeline plots"
   ]
  },
  {
   "cell_type": "code",
   "execution_count": 8,
   "metadata": {
    "collapsed": true
   },
   "outputs": [
    {
     "data": {
      "text/html": [
       "<table>\n",
       "<caption>A data.frame: 6 × 15</caption>\n",
       "<thead>\n",
       "\t<tr><th></th><th scope=col>VEMP</th><th scope=col>NCAP</th><th scope=col>R1AB</th><th scope=col>R1A</th><th scope=col>AP3A</th><th scope=col>NS7A</th><th scope=col>SPIKE</th><th scope=col>ORF9B</th><th scope=col>NS6</th><th scope=col>VME1</th><th scope=col>NS3B</th><th scope=col>NS8B</th><th scope=col>NS7B</th><th scope=col>Y14</th><th scope=col>NS8A</th></tr>\n",
       "\t<tr><th></th><th scope=col>&lt;dbl&gt;</th><th scope=col>&lt;dbl&gt;</th><th scope=col>&lt;dbl&gt;</th><th scope=col>&lt;dbl&gt;</th><th scope=col>&lt;dbl&gt;</th><th scope=col>&lt;dbl&gt;</th><th scope=col>&lt;dbl&gt;</th><th scope=col>&lt;dbl&gt;</th><th scope=col>&lt;dbl&gt;</th><th scope=col>&lt;dbl&gt;</th><th scope=col>&lt;dbl&gt;</th><th scope=col>&lt;dbl&gt;</th><th scope=col>&lt;dbl&gt;</th><th scope=col>&lt;dbl&gt;</th><th scope=col>&lt;dbl&gt;</th></tr>\n",
       "</thead>\n",
       "<tbody>\n",
       "\t<tr><th scope=row>1</th><td>0.7105263</td><td>0.01421801</td><td>0.002686272</td><td>0.00433592</td><td>0.06204380</td><td>0.2786885</td><td>0.02231076</td><td>0.03061224</td><td>0.6825397</td><td>0.2624434</td><td>0.01948052</td><td>0.3452381</td><td>0.9090909</td><td>0.04285714</td><td>0.7179487</td></tr>\n",
       "\t<tr><th scope=row>2</th><td>0.9473684</td><td>0.03317536</td><td>0.008765729</td><td>0.01414879</td><td>0.09124088</td><td>0.2950820</td><td>0.03426295</td><td>0.10204082</td><td>0.9047619</td><td>0.5113122</td><td>0.44155844</td><td>0.5000000</td><td>       NA</td><td>0.05714286</td><td>0.8717949</td></tr>\n",
       "\t<tr><th scope=row>3</th><td>       NA</td><td>0.04976303</td><td>0.009472642</td><td>0.01528982</td><td>0.13138686</td><td>0.3688525</td><td>0.04860558</td><td>0.11224490</td><td>1.0000000</td><td>0.5520362</td><td>        NA</td><td>0.6071429</td><td>       NA</td><td>0.41428571</td><td>       NA</td></tr>\n",
       "\t<tr><th scope=row>4</th><td>       NA</td><td>0.09004739</td><td>0.015410717</td><td>0.02487449</td><td>0.15328467</td><td>0.3934426</td><td>0.06294821</td><td>0.18367347</td><td>       NA</td><td>0.5927602</td><td>        NA</td><td>       NA</td><td>       NA</td><td>0.47142857</td><td>       NA</td></tr>\n",
       "\t<tr><th scope=row>5</th><td>       NA</td><td>0.10189573</td><td>0.016259013</td><td>0.02624372</td><td>0.50364964</td><td>0.6885246</td><td>0.06533865</td><td>0.40816327</td><td>       NA</td><td>0.7420814</td><td>        NA</td><td>       NA</td><td>       NA</td><td>0.92857143</td><td>       NA</td></tr>\n",
       "\t<tr><th scope=row>6</th><td>       NA</td><td>0.11137441</td><td>0.021631557</td><td>0.03491556</td><td>0.58029197</td><td>0.8196721</td><td>0.10836653</td><td>0.44897959</td><td>       NA</td><td>       NA</td><td>        NA</td><td>       NA</td><td>       NA</td><td>        NA</td><td>       NA</td></tr>\n",
       "</tbody>\n",
       "</table>\n"
      ],
      "text/latex": [
       "A data.frame: 6 × 15\n",
       "\\begin{tabular}{r|lllllllllllllll}\n",
       "  & VEMP & NCAP & R1AB & R1A & AP3A & NS7A & SPIKE & ORF9B & NS6 & VME1 & NS3B & NS8B & NS7B & Y14 & NS8A\\\\\n",
       "  & <dbl> & <dbl> & <dbl> & <dbl> & <dbl> & <dbl> & <dbl> & <dbl> & <dbl> & <dbl> & <dbl> & <dbl> & <dbl> & <dbl> & <dbl>\\\\\n",
       "\\hline\n",
       "\t1 & 0.7105263 & 0.01421801 & 0.002686272 & 0.00433592 & 0.06204380 & 0.2786885 & 0.02231076 & 0.03061224 & 0.6825397 & 0.2624434 & 0.01948052 & 0.3452381 & 0.9090909 & 0.04285714 & 0.7179487\\\\\n",
       "\t2 & 0.9473684 & 0.03317536 & 0.008765729 & 0.01414879 & 0.09124088 & 0.2950820 & 0.03426295 & 0.10204082 & 0.9047619 & 0.5113122 & 0.44155844 & 0.5000000 &        NA & 0.05714286 & 0.8717949\\\\\n",
       "\t3 &        NA & 0.04976303 & 0.009472642 & 0.01528982 & 0.13138686 & 0.3688525 & 0.04860558 & 0.11224490 & 1.0000000 & 0.5520362 &         NA & 0.6071429 &        NA & 0.41428571 &        NA\\\\\n",
       "\t4 &        NA & 0.09004739 & 0.015410717 & 0.02487449 & 0.15328467 & 0.3934426 & 0.06294821 & 0.18367347 &        NA & 0.5927602 &         NA &        NA &        NA & 0.47142857 &        NA\\\\\n",
       "\t5 &        NA & 0.10189573 & 0.016259013 & 0.02624372 & 0.50364964 & 0.6885246 & 0.06533865 & 0.40816327 &        NA & 0.7420814 &         NA &        NA &        NA & 0.92857143 &        NA\\\\\n",
       "\t6 &        NA & 0.11137441 & 0.021631557 & 0.03491556 & 0.58029197 & 0.8196721 & 0.10836653 & 0.44897959 &        NA &        NA &         NA &        NA &        NA &         NA &        NA\\\\\n",
       "\\end{tabular}\n"
      ],
      "text/markdown": [
       "\n",
       "A data.frame: 6 × 15\n",
       "\n",
       "| <!--/--> | VEMP &lt;dbl&gt; | NCAP &lt;dbl&gt; | R1AB &lt;dbl&gt; | R1A &lt;dbl&gt; | AP3A &lt;dbl&gt; | NS7A &lt;dbl&gt; | SPIKE &lt;dbl&gt; | ORF9B &lt;dbl&gt; | NS6 &lt;dbl&gt; | VME1 &lt;dbl&gt; | NS3B &lt;dbl&gt; | NS8B &lt;dbl&gt; | NS7B &lt;dbl&gt; | Y14 &lt;dbl&gt; | NS8A &lt;dbl&gt; |\n",
       "|---|---|---|---|---|---|---|---|---|---|---|---|---|---|---|---|\n",
       "| 1 | 0.7105263 | 0.01421801 | 0.002686272 | 0.00433592 | 0.06204380 | 0.2786885 | 0.02231076 | 0.03061224 | 0.6825397 | 0.2624434 | 0.01948052 | 0.3452381 | 0.9090909 | 0.04285714 | 0.7179487 |\n",
       "| 2 | 0.9473684 | 0.03317536 | 0.008765729 | 0.01414879 | 0.09124088 | 0.2950820 | 0.03426295 | 0.10204082 | 0.9047619 | 0.5113122 | 0.44155844 | 0.5000000 |        NA | 0.05714286 | 0.8717949 |\n",
       "| 3 |        NA | 0.04976303 | 0.009472642 | 0.01528982 | 0.13138686 | 0.3688525 | 0.04860558 | 0.11224490 | 1.0000000 | 0.5520362 |         NA | 0.6071429 |        NA | 0.41428571 |        NA |\n",
       "| 4 |        NA | 0.09004739 | 0.015410717 | 0.02487449 | 0.15328467 | 0.3934426 | 0.06294821 | 0.18367347 |        NA | 0.5927602 |         NA |        NA |        NA | 0.47142857 |        NA |\n",
       "| 5 |        NA | 0.10189573 | 0.016259013 | 0.02624372 | 0.50364964 | 0.6885246 | 0.06533865 | 0.40816327 |        NA | 0.7420814 |         NA |        NA |        NA | 0.92857143 |        NA |\n",
       "| 6 |        NA | 0.11137441 | 0.021631557 | 0.03491556 | 0.58029197 | 0.8196721 | 0.10836653 | 0.44897959 |        NA |        NA |         NA |        NA |        NA |         NA |        NA |\n",
       "\n"
      ],
      "text/plain": [
       "  VEMP      NCAP       R1AB        R1A        AP3A       NS7A      SPIKE     \n",
       "1 0.7105263 0.01421801 0.002686272 0.00433592 0.06204380 0.2786885 0.02231076\n",
       "2 0.9473684 0.03317536 0.008765729 0.01414879 0.09124088 0.2950820 0.03426295\n",
       "3        NA 0.04976303 0.009472642 0.01528982 0.13138686 0.3688525 0.04860558\n",
       "4        NA 0.09004739 0.015410717 0.02487449 0.15328467 0.3934426 0.06294821\n",
       "5        NA 0.10189573 0.016259013 0.02624372 0.50364964 0.6885246 0.06533865\n",
       "6        NA 0.11137441 0.021631557 0.03491556 0.58029197 0.8196721 0.10836653\n",
       "  ORF9B      NS6       VME1      NS3B       NS8B      NS7B      Y14       \n",
       "1 0.03061224 0.6825397 0.2624434 0.01948052 0.3452381 0.9090909 0.04285714\n",
       "2 0.10204082 0.9047619 0.5113122 0.44155844 0.5000000        NA 0.05714286\n",
       "3 0.11224490 1.0000000 0.5520362         NA 0.6071429        NA 0.41428571\n",
       "4 0.18367347        NA 0.5927602         NA        NA        NA 0.47142857\n",
       "5 0.40816327        NA 0.7420814         NA        NA        NA 0.92857143\n",
       "6 0.44897959        NA        NA         NA        NA        NA         NA\n",
       "  NS8A     \n",
       "1 0.7179487\n",
       "2 0.8717949\n",
       "3        NA\n",
       "4        NA\n",
       "5        NA\n",
       "6        NA"
      ]
     },
     "metadata": {},
     "output_type": "display_data"
    }
   ],
   "source": [
    "# Count number of AA in each protein (in this case, already ran this code above)\n",
    "#AA_number <- apply(chol_divide, 2, nchar)\n",
    "#head(AA_number)\n",
    "\n",
    "# Divide each position by protein AA length, to normalize positions. \n",
    "\n",
    "protein_Pnorm <- protein_Pcount_df\n",
    "for (i in 1:ncol(protein_Pcount_df)){\n",
    "    protein_Pnorm[,i] <- protein_Pcount_df[,i]/AA_number[i,2]\n",
    "}\n",
    "head(protein_Pnorm)"
   ]
  },
  {
   "cell_type": "code",
   "execution_count": 9,
   "metadata": {
    "collapsed": true
   },
   "outputs": [
    {
     "data": {
      "text/html": [
       "<style>\n",
       ".list-inline {list-style: none; margin:0; padding: 0}\n",
       ".list-inline>li {display: inline-block}\n",
       ".list-inline>li:not(:last-child)::after {content: \"\\00b7\"; padding: 0 .5ex}\n",
       "</style>\n",
       "<ol class=list-inline><li>578</li><li>2</li></ol>\n"
      ],
      "text/latex": [
       "\\begin{enumerate*}\n",
       "\\item 578\n",
       "\\item 2\n",
       "\\end{enumerate*}\n"
      ],
      "text/markdown": [
       "1. 578\n",
       "2. 2\n",
       "\n",
       "\n"
      ],
      "text/plain": [
       "[1] 578   2"
      ]
     },
     "metadata": {},
     "output_type": "display_data"
    }
   ],
   "source": [
    "# Melt data frame to arrange by gene in ridgeline plots.\n",
    "protein_Pnorm_melt <- gather(protein_Pnorm, \"gene\", \"P_location\") %>% filter(!is.na(P_location))\n",
    "\n",
    "dim(protein_Pnorm_melt)"
   ]
  },
  {
   "cell_type": "code",
   "execution_count": 11,
   "metadata": {},
   "outputs": [
    {
     "data": {
      "image/png": "[encoded data removed]",
      "text/plain": [
       "plot without title"
      ]
     },
     "metadata": {
      "image/png": {
       "height": 420,
       "width": 420
      },
      "text/plain": {
       "height": 420,
       "width": 420
      }
     },
     "output_type": "display_data"
    }
   ],
   "source": [
    "ggplot(protein_Pnorm_melt, aes(x = P_location, y = gene)) + \n",
    "    geom_density_ridges(bandwidth = 0.005, scale = 1) +\n",
    "    coord_cartesian(xlim = c(0,1)) + ylab(\"Gene\") + xlab(\"Protein location (normalized)\") +\n",
    "    theme(axis.text = element_text(size = 12, family = \"Arial\", face = \"bold\"),\n",
    "         axis.title = element_text(size = 12, family = \"Arial\", face = \"bold\"),\n",
    "         plot.title = element_text(size = 12, family = \"Arial\", face = \"bold\")) +\n",
    "    theme_bw()\n",
    "\n",
    "ggsave(\"ridgeline_density.png\", plot = last_plot())"
   ]
  }
 ],
 "metadata": {
  "kernelspec": {
   "display_name": "R",
   "language": "R",
   "name": "ir"
  },
  "language_info": {
   "codemirror_mode": "r",
   "file_extension": ".r",
   "mimetype": "text/x-r-source",
   "name": "R",
   "pygments_lexer": "r",
   "version": "3.6.0"
  }
 },
 "nbformat": 4,
 "nbformat_minor": 2
}
